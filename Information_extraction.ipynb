{
  "nbformat": 4,
  "nbformat_minor": 0,
  "metadata": {
    "colab": {
      "provenance": [],
      "collapsed_sections": []
    },
    "kernelspec": {
      "name": "python3",
      "display_name": "Python 3"
    },
    "accelerator": "GPU"
  },
  "cells": [
    {
      "cell_type": "code",
      "metadata": {
        "id": "BSeavwAjwcQ_",
        "colab": {
          "base_uri": "https://localhost:8080/"
        },
        "outputId": "2de46838-1bd2-42bd-a8f3-4c2486fbe09a"
      },
      "source": [
        "import tensorflow_hub as hub\n",
        "import numpy as np\n",
        "import pandas as pd\n",
        "import seaborn as sns\n",
        "import glob\n",
        "from sklearn.metrics import confusion_matrix\n",
        "from sklearn.metrics import precision_recall_fscore_support\n",
        "from matplotlib import pyplot as plt\n",
        "import keras\n",
        "from keras.models import Model\n",
        "from keras.models import Sequential\n",
        "from keras.layers import Input, Conv1D, Dropout, MaxPooling1D, Flatten, Dense\n",
        "import tensorflow as tf\n",
        "from sklearn.utils import resample\n",
        "from sklearn.utils import shuffle\n",
        "import re\n",
        "import nltk\n",
        "from nltk.corpus import stopwords \n",
        "from nltk.tokenize import word_tokenize \n",
        "nltk.download('stopwords')\n",
        "nltk.download('punkt')"
      ],
      "execution_count": null,
      "outputs": [
        {
          "output_type": "stream",
          "text": [
            "[nltk_data] Downloading package stopwords to /root/nltk_data...\n",
            "[nltk_data]   Package stopwords is already up-to-date!\n",
            "[nltk_data] Downloading package punkt to /root/nltk_data...\n",
            "[nltk_data]   Package punkt is already up-to-date!\n"
          ],
          "name": "stdout"
        },
        {
          "output_type": "execute_result",
          "data": {
            "text/plain": [
              "True"
            ]
          },
          "metadata": {
            "tags": []
          },
          "execution_count": 43
        }
      ]
    },
    {
      "cell_type": "code",
      "metadata": {
        "colab": {
          "base_uri": "https://localhost:8080/"
        },
        "id": "FO9VEzu0wktf",
        "outputId": "415bfd29-d0f1-4360-9c42-34f7bea7acd8"
      },
      "source": [
        "from google.colab import drive\n",
        "drive.mount('/content/drive')"
      ],
      "execution_count": null,
      "outputs": [
        {
          "output_type": "stream",
          "text": [
            "Mounted at /content/drive\n"
          ],
          "name": "stdout"
        }
      ]
    },
    {
      "cell_type": "code",
      "metadata": {
        "colab": {
          "base_uri": "https://localhost:8080/"
        },
        "id": "nefd-xUowmcl",
        "outputId": "8d8f9fc5-5ccf-44ef-d422-dec03224f47d"
      },
      "source": [
        "%cd /content/drive/MyDrive/NLP_KG\n",
        "%ls"
      ],
      "execution_count": null,
      "outputs": [
        {
          "output_type": "stream",
          "text": [
            "/content/drive/MyDrive/NLP_KG\n",
            "\u001b[0m\u001b[01;34mdataset\u001b[0m/\n"
          ],
          "name": "stdout"
        }
      ]
    },
    {
      "cell_type": "code",
      "metadata": {
        "id": "s9lP1nn8wrlx"
      },
      "source": [
        "embed = hub.load(\"https://tfhub.dev/google/universal-sentence-encoder/4\")"
      ],
      "execution_count": null,
      "outputs": []
    },
    {
      "cell_type": "code",
      "metadata": {
        "id": "o7VoHNWL9Jg8"
      },
      "source": [
        "def preprocess_sentence(sentence, stop_words):\n",
        "    sentence = sentence.lower()\n",
        "    sentence = re.sub(r'[^\\w\\s]','',sentence)\n",
        "    word_tokens = word_tokenize(sentence) \n",
        "    processed_sentence = ''\n",
        "    for word in word_tokens:\n",
        "        if word not in stop_words:\n",
        "            processed_sentence += word + ' '\n",
        "    processed_sentence = processed_sentence[:-1]\n",
        "    return processed_sentence "
      ],
      "execution_count": null,
      "outputs": []
    },
    {
      "cell_type": "code",
      "metadata": {
        "colab": {
          "base_uri": "https://localhost:8080/"
        },
        "id": "BSHDl0BNwtez",
        "outputId": "56459bf2-766c-4dca-e9b5-83301ede27e1"
      },
      "source": [
        "folder_name = './dataset/gene-sequencing/'\n",
        "\n",
        "directories = glob.glob(folder_name + '*')\n",
        "dataset = {}\n",
        "number = 1\n",
        "stop_words = set(stopwords.words(\"english\"))\n",
        "for directory in directories:\n",
        "    if directory != str(folder_name + '10'): #ignore the last folder I will use it as test paper\n",
        "        text_file = glob.glob(directory + '/*Stanza-out.txt')[0]\n",
        "        sentence_file = glob.glob(directory + '/*sentences.txt')[0]\n",
        "        sentence_dict = {}\n",
        "        print('Reading file: ' + text_file)\n",
        "        id = 1\n",
        "        f = open(text_file, 'r')\n",
        "        for sentence in f:\n",
        "            sentence_dict[id] = [np.array(embed([preprocess_sentence(sentence, stop_words)])[0], dtype='float32'), 0]\n",
        "            id = id + 1\n",
        "        f = open(sentence_file, 'r')\n",
        "        for sentence_num in f:\n",
        "            sentence_dict[int(sentence_num)][1] = 1\n",
        "        for k, v in sentence_dict.items():\n",
        "            dataset[number] = v\n",
        "            number += 1\n",
        "        print('Done reading')\n",
        "print(\"I AM DONE\")"
      ],
      "execution_count": null,
      "outputs": [
        {
          "output_type": "stream",
          "text": [
            "Reading file: ./dataset/gene-sequencing/5/Love et al., 2016-Stanza-out.txt\n",
            "Done reading\n",
            "Reading file: ./dataset/gene-sequencing/2/Cai et al., 2013-Stanza-out.txt\n",
            "Done reading\n",
            "Reading file: ./dataset/gene-sequencing/3/Fitak et al., 2015-Stanza-out.txt\n",
            "Done reading\n",
            "Reading file: ./dataset/gene-sequencing/9/Vaghefi et al., 2017-Stanza-out.txt\n",
            "Done reading\n",
            "Reading file: ./dataset/gene-sequencing/0/Blanc-Mathieu et al., 2014-Stanza-out.txt\n",
            "Done reading\n",
            "Reading file: ./dataset/gene-sequencing/8/Sharko et al., 2019-Stanza-out.txt\n",
            "Done reading\n",
            "Reading file: ./dataset/gene-sequencing/6/Nock et al., 2016-Stanza-out.txt\n",
            "Done reading\n",
            "Reading file: ./dataset/gene-sequencing/7/Schatz et al., 2014-Stanza-out.txt\n",
            "Done reading\n",
            "Reading file: ./dataset/gene-sequencing/4/Li et al., 2010-Stanza-out.txt\n",
            "Done reading\n",
            "Reading file: ./dataset/gene-sequencing/1/Brand et al., 2018-Stanza-out.txt\n",
            "Done reading\n",
            "I AM DONE\n"
          ],
          "name": "stdout"
        }
      ]
    },
    {
      "cell_type": "code",
      "metadata": {
        "colab": {
          "base_uri": "https://localhost:8080/",
          "height": 402
        },
        "id": "cZZbcw6MwyZF",
        "outputId": "a6361597-b54c-4dd5-a3d4-1c2a6afd456d"
      },
      "source": [
        "dataset = pd.DataFrame(dataset).T\n",
        "dataset.columns = ['Sentence', 'Label']\n",
        "dataset"
      ],
      "execution_count": null,
      "outputs": [
        {
          "output_type": "execute_result",
          "data": {
            "text/html": [
              "<div>\n",
              "<style scoped>\n",
              "    .dataframe tbody tr th:only-of-type {\n",
              "        vertical-align: middle;\n",
              "    }\n",
              "\n",
              "    .dataframe tbody tr th {\n",
              "        vertical-align: top;\n",
              "    }\n",
              "\n",
              "    .dataframe thead th {\n",
              "        text-align: right;\n",
              "    }\n",
              "</style>\n",
              "<table border=\"1\" class=\"dataframe\">\n",
              "  <thead>\n",
              "    <tr style=\"text-align: right;\">\n",
              "      <th></th>\n",
              "      <th>Sentence</th>\n",
              "      <th>Label</th>\n",
              "    </tr>\n",
              "  </thead>\n",
              "  <tbody>\n",
              "    <tr>\n",
              "      <th>1</th>\n",
              "      <td>[-0.06335544, -0.029147001, 0.027340723, 0.068...</td>\n",
              "      <td>0</td>\n",
              "    </tr>\n",
              "    <tr>\n",
              "      <th>2</th>\n",
              "      <td>[-0.0368622, -0.042071916, -0.039972927, 0.026...</td>\n",
              "      <td>0</td>\n",
              "    </tr>\n",
              "    <tr>\n",
              "      <th>3</th>\n",
              "      <td>[-0.0660406, 0.035976294, 0.08232539, -0.00499...</td>\n",
              "      <td>0</td>\n",
              "    </tr>\n",
              "    <tr>\n",
              "      <th>4</th>\n",
              "      <td>[-0.07792691, 0.06651248, -0.024652002, 0.0380...</td>\n",
              "      <td>0</td>\n",
              "    </tr>\n",
              "    <tr>\n",
              "      <th>5</th>\n",
              "      <td>[0.050704177, -0.06849507, -0.049851988, 0.048...</td>\n",
              "      <td>0</td>\n",
              "    </tr>\n",
              "    <tr>\n",
              "      <th>...</th>\n",
              "      <td>...</td>\n",
              "      <td>...</td>\n",
              "    </tr>\n",
              "    <tr>\n",
              "      <th>2095</th>\n",
              "      <td>[-0.04670579, 0.023381073, 0.004099612, 0.0368...</td>\n",
              "      <td>0</td>\n",
              "    </tr>\n",
              "    <tr>\n",
              "      <th>2096</th>\n",
              "      <td>[0.008249804, -0.017745443, 0.026740575, 0.052...</td>\n",
              "      <td>1</td>\n",
              "    </tr>\n",
              "    <tr>\n",
              "      <th>2097</th>\n",
              "      <td>[-0.06469606, -0.014690032, -0.006760066, 0.05...</td>\n",
              "      <td>0</td>\n",
              "    </tr>\n",
              "    <tr>\n",
              "      <th>2098</th>\n",
              "      <td>[-0.034021787, 0.0023185122, -0.02650469, 0.01...</td>\n",
              "      <td>0</td>\n",
              "    </tr>\n",
              "    <tr>\n",
              "      <th>2099</th>\n",
              "      <td>[-0.069552526, -0.0069500976, -0.013719925, 0....</td>\n",
              "      <td>0</td>\n",
              "    </tr>\n",
              "  </tbody>\n",
              "</table>\n",
              "<p>2099 rows × 2 columns</p>\n",
              "</div>"
            ],
            "text/plain": [
              "                                               Sentence Label\n",
              "1     [-0.06335544, -0.029147001, 0.027340723, 0.068...     0\n",
              "2     [-0.0368622, -0.042071916, -0.039972927, 0.026...     0\n",
              "3     [-0.0660406, 0.035976294, 0.08232539, -0.00499...     0\n",
              "4     [-0.07792691, 0.06651248, -0.024652002, 0.0380...     0\n",
              "5     [0.050704177, -0.06849507, -0.049851988, 0.048...     0\n",
              "...                                                 ...   ...\n",
              "2095  [-0.04670579, 0.023381073, 0.004099612, 0.0368...     0\n",
              "2096  [0.008249804, -0.017745443, 0.026740575, 0.052...     1\n",
              "2097  [-0.06469606, -0.014690032, -0.006760066, 0.05...     0\n",
              "2098  [-0.034021787, 0.0023185122, -0.02650469, 0.01...     0\n",
              "2099  [-0.069552526, -0.0069500976, -0.013719925, 0....     0\n",
              "\n",
              "[2099 rows x 2 columns]"
            ]
          },
          "metadata": {
            "tags": []
          },
          "execution_count": 21
        }
      ]
    },
    {
      "cell_type": "code",
      "metadata": {
        "colab": {
          "base_uri": "https://localhost:8080/",
          "height": 435
        },
        "id": "7pVoEF7M9d9m",
        "outputId": "9d4d8ed4-4b51-4bd2-f015-37916e4236c5"
      },
      "source": [
        "data_majority = dataset[dataset['Label'] == 0]\n",
        "data_minority = dataset[dataset['Label'] == 1]\n",
        "print(data_majority.shape)\n",
        "print(data_minority.shape)\n",
        "data_minority_upsampled = resample(data_minority, \n",
        "                                 replace=True,     # sample with replacement\n",
        "                                 n_samples= data_majority.shape[0])\n",
        "data_upsampled = shuffle(pd.concat([data_majority, data_minority_upsampled]))\n",
        "data_upsampled"
      ],
      "execution_count": null,
      "outputs": [
        {
          "output_type": "stream",
          "text": [
            "(1816, 2)\n",
            "(283, 2)\n"
          ],
          "name": "stdout"
        },
        {
          "output_type": "execute_result",
          "data": {
            "text/html": [
              "<div>\n",
              "<style scoped>\n",
              "    .dataframe tbody tr th:only-of-type {\n",
              "        vertical-align: middle;\n",
              "    }\n",
              "\n",
              "    .dataframe tbody tr th {\n",
              "        vertical-align: top;\n",
              "    }\n",
              "\n",
              "    .dataframe thead th {\n",
              "        text-align: right;\n",
              "    }\n",
              "</style>\n",
              "<table border=\"1\" class=\"dataframe\">\n",
              "  <thead>\n",
              "    <tr style=\"text-align: right;\">\n",
              "      <th></th>\n",
              "      <th>Sentence</th>\n",
              "      <th>Label</th>\n",
              "    </tr>\n",
              "  </thead>\n",
              "  <tbody>\n",
              "    <tr>\n",
              "      <th>1125</th>\n",
              "      <td>[-0.029554103, -0.068100214, -0.010639429, 0.0...</td>\n",
              "      <td>1</td>\n",
              "    </tr>\n",
              "    <tr>\n",
              "      <th>1363</th>\n",
              "      <td>[0.040270723, -0.03651356, -0.06874573, -0.064...</td>\n",
              "      <td>0</td>\n",
              "    </tr>\n",
              "    <tr>\n",
              "      <th>2006</th>\n",
              "      <td>[0.0402314, -0.08161804, 0.0068468098, -0.0241...</td>\n",
              "      <td>0</td>\n",
              "    </tr>\n",
              "    <tr>\n",
              "      <th>368</th>\n",
              "      <td>[0.021787837, -0.017352048, 0.017772485, 0.003...</td>\n",
              "      <td>0</td>\n",
              "    </tr>\n",
              "    <tr>\n",
              "      <th>708</th>\n",
              "      <td>[0.06723089, 0.009076664, -0.0050326185, 0.055...</td>\n",
              "      <td>0</td>\n",
              "    </tr>\n",
              "    <tr>\n",
              "      <th>...</th>\n",
              "      <td>...</td>\n",
              "      <td>...</td>\n",
              "    </tr>\n",
              "    <tr>\n",
              "      <th>88</th>\n",
              "      <td>[-0.01221154, -0.035092063, 0.0089138625, 0.00...</td>\n",
              "      <td>0</td>\n",
              "    </tr>\n",
              "    <tr>\n",
              "      <th>760</th>\n",
              "      <td>[0.075714186, 0.0051085046, -0.05513597, 0.051...</td>\n",
              "      <td>0</td>\n",
              "    </tr>\n",
              "    <tr>\n",
              "      <th>1745</th>\n",
              "      <td>[-0.023621406, -0.06823426, -0.0051304097, -0....</td>\n",
              "      <td>1</td>\n",
              "    </tr>\n",
              "    <tr>\n",
              "      <th>1443</th>\n",
              "      <td>[0.0004635851, -0.022600366, -0.033079013, -0....</td>\n",
              "      <td>0</td>\n",
              "    </tr>\n",
              "    <tr>\n",
              "      <th>957</th>\n",
              "      <td>[-0.018795457, 0.012054691, -0.039647892, -0.0...</td>\n",
              "      <td>1</td>\n",
              "    </tr>\n",
              "  </tbody>\n",
              "</table>\n",
              "<p>3632 rows × 2 columns</p>\n",
              "</div>"
            ],
            "text/plain": [
              "                                               Sentence Label\n",
              "1125  [-0.029554103, -0.068100214, -0.010639429, 0.0...     1\n",
              "1363  [0.040270723, -0.03651356, -0.06874573, -0.064...     0\n",
              "2006  [0.0402314, -0.08161804, 0.0068468098, -0.0241...     0\n",
              "368   [0.021787837, -0.017352048, 0.017772485, 0.003...     0\n",
              "708   [0.06723089, 0.009076664, -0.0050326185, 0.055...     0\n",
              "...                                                 ...   ...\n",
              "88    [-0.01221154, -0.035092063, 0.0089138625, 0.00...     0\n",
              "760   [0.075714186, 0.0051085046, -0.05513597, 0.051...     0\n",
              "1745  [-0.023621406, -0.06823426, -0.0051304097, -0....     1\n",
              "1443  [0.0004635851, -0.022600366, -0.033079013, -0....     0\n",
              "957   [-0.018795457, 0.012054691, -0.039647892, -0.0...     1\n",
              "\n",
              "[3632 rows x 2 columns]"
            ]
          },
          "metadata": {
            "tags": []
          },
          "execution_count": 22
        }
      ]
    },
    {
      "cell_type": "code",
      "metadata": {
        "colab": {
          "base_uri": "https://localhost:8080/"
        },
        "id": "PWfJxgRnw5ne",
        "outputId": "e913c922-ac53-4d02-b867-7bc660aa8519"
      },
      "source": [
        "X = []\n",
        "for val in data_upsampled['Sentence']:\n",
        "    X.append(list(val))\n",
        "X = np.array(X).reshape(len(X), 512, 1)\n",
        "print(X.shape)"
      ],
      "execution_count": null,
      "outputs": [
        {
          "output_type": "stream",
          "text": [
            "(3632, 512, 1)\n"
          ],
          "name": "stdout"
        }
      ]
    },
    {
      "cell_type": "code",
      "metadata": {
        "colab": {
          "base_uri": "https://localhost:8080/"
        },
        "id": "WAhFQH9WxMKW",
        "outputId": "f56b29f8-e2de-4326-c8dd-5b1c1f822c9a"
      },
      "source": [
        "y = data_upsampled['Label'].values\n",
        "y = np.array(y, dtype=int)\n",
        "y"
      ],
      "execution_count": null,
      "outputs": [
        {
          "output_type": "execute_result",
          "data": {
            "text/plain": [
              "array([1, 0, 0, ..., 1, 0, 1])"
            ]
          },
          "metadata": {
            "tags": []
          },
          "execution_count": 29
        }
      ]
    },
    {
      "cell_type": "code",
      "metadata": {
        "colab": {
          "base_uri": "https://localhost:8080/"
        },
        "id": "IBNxfeU0xNnI",
        "outputId": "c31c55fe-7b2d-42e7-fb9d-fe0a626821e7"
      },
      "source": [
        "model = Sequential()\n",
        "model.add(Input(shape=(512, 1)))\n",
        "model.add(Conv1D(filters=32, kernel_size=3, activation='relu'))\n",
        "model.add(Conv1D(filters=16, kernel_size=1, activation='relu'))\n",
        "model.add(Flatten())\n",
        "model.add(Dense(128, activation='relu'))\n",
        "model.add(Dense(64, activation='relu'))\n",
        "model.add(Dense(32, activation='relu'))\n",
        "model.add(Dense(2))\n",
        "model.summary()"
      ],
      "execution_count": null,
      "outputs": [
        {
          "output_type": "stream",
          "text": [
            "Model: \"sequential\"\n",
            "_________________________________________________________________\n",
            "Layer (type)                 Output Shape              Param #   \n",
            "=================================================================\n",
            "conv1d (Conv1D)              (None, 510, 32)           128       \n",
            "_________________________________________________________________\n",
            "conv1d_1 (Conv1D)            (None, 510, 16)           528       \n",
            "_________________________________________________________________\n",
            "flatten (Flatten)            (None, 8160)              0         \n",
            "_________________________________________________________________\n",
            "dense (Dense)                (None, 128)               1044608   \n",
            "_________________________________________________________________\n",
            "dense_1 (Dense)              (None, 64)                8256      \n",
            "_________________________________________________________________\n",
            "dense_2 (Dense)              (None, 32)                2080      \n",
            "_________________________________________________________________\n",
            "dense_3 (Dense)              (None, 2)                 66        \n",
            "=================================================================\n",
            "Total params: 1,055,666\n",
            "Trainable params: 1,055,666\n",
            "Non-trainable params: 0\n",
            "_________________________________________________________________\n"
          ],
          "name": "stdout"
        }
      ]
    },
    {
      "cell_type": "code",
      "metadata": {
        "id": "D_gEFdxbyByJ"
      },
      "source": [
        "model.compile(loss='binary_crossentropy',\n",
        "optimizer='adam',\n",
        "metrics='accuracy')"
      ],
      "execution_count": null,
      "outputs": []
    },
    {
      "cell_type": "code",
      "metadata": {
        "colab": {
          "base_uri": "https://localhost:8080/"
        },
        "id": "Hxwqeabaydn-",
        "outputId": "f8222a69-aed3-432a-f5ed-a53879dae189"
      },
      "source": [
        "model.fit(X, y,epochs = 50, batch_size=32, validation_split=0.2, \n",
        "          callbacks=[tf.keras.callbacks.EarlyStopping(monitor='loss', patience=3)])"
      ],
      "execution_count": null,
      "outputs": [
        {
          "output_type": "stream",
          "text": [
            "Epoch 1/50\n",
            "91/91 [==============================] - 28s 6ms/step - loss: 0.9013 - accuracy: 0.4660 - val_loss: 0.5669 - val_accuracy: 0.2462\n",
            "Epoch 2/50\n",
            "91/91 [==============================] - 0s 4ms/step - loss: 0.5035 - accuracy: 0.4336 - val_loss: 0.4601 - val_accuracy: 0.2957\n",
            "Epoch 3/50\n",
            "91/91 [==============================] - 0s 4ms/step - loss: 0.4415 - accuracy: 0.4254 - val_loss: 0.3926 - val_accuracy: 0.5213\n",
            "Epoch 4/50\n",
            "91/91 [==============================] - 0s 4ms/step - loss: 0.4087 - accuracy: 0.3752 - val_loss: 0.4342 - val_accuracy: 0.2669\n",
            "Epoch 5/50\n",
            "91/91 [==============================] - 0s 4ms/step - loss: 0.3797 - accuracy: 0.2938 - val_loss: 0.8004 - val_accuracy: 0.4759\n",
            "Epoch 6/50\n",
            "91/91 [==============================] - 0s 4ms/step - loss: 0.4370 - accuracy: 0.5593 - val_loss: 0.5629 - val_accuracy: 0.6864\n",
            "Epoch 7/50\n",
            "91/91 [==============================] - 0s 4ms/step - loss: 0.4133 - accuracy: 0.4808 - val_loss: 0.4162 - val_accuracy: 0.7221\n",
            "Epoch 8/50\n",
            "91/91 [==============================] - 0s 4ms/step - loss: 0.5548 - accuracy: 0.5553 - val_loss: 0.6252 - val_accuracy: 0.6149\n",
            "Epoch 9/50\n",
            "91/91 [==============================] - 0s 4ms/step - loss: 0.3637 - accuracy: 0.5207 - val_loss: 0.5559 - val_accuracy: 0.5241\n",
            "Epoch 10/50\n",
            "91/91 [==============================] - 0s 4ms/step - loss: 0.6164 - accuracy: 0.5028 - val_loss: 0.4890 - val_accuracy: 0.7634\n",
            "Epoch 11/50\n",
            "91/91 [==============================] - 0s 4ms/step - loss: 0.4562 - accuracy: 0.6894 - val_loss: 0.4969 - val_accuracy: 0.5832\n",
            "Epoch 12/50\n",
            "91/91 [==============================] - 0s 4ms/step - loss: 0.3864 - accuracy: 0.6068 - val_loss: 0.4880 - val_accuracy: 0.4993\n"
          ],
          "name": "stdout"
        },
        {
          "output_type": "execute_result",
          "data": {
            "text/plain": [
              "<tensorflow.python.keras.callbacks.History at 0x7fddd35a2710>"
            ]
          },
          "metadata": {
            "tags": []
          },
          "execution_count": 32
        }
      ]
    },
    {
      "cell_type": "code",
      "metadata": {
        "id": "bFcDZy6kyhSC"
      },
      "source": [
        "text_file = open(folder_name+'10/Varshney et al., 2012-Stanza-out.txt')\n",
        "id = 1\n",
        "test_data = {}\n",
        "for sentence in text_file:\n",
        "    test_data[id] = [np.array(embed([preprocess_sentence(sentence, stop_words)])[0], dtype='float32'), 0]\n",
        "    id = id + 1\n",
        "imp_sen_file = open(folder_name+ '10/sentences.txt')\n",
        "for imp_sen_num in imp_sen_file:\n",
        "    num = int(imp_sen_num)\n",
        "    test_data[num][1] = 1"
      ],
      "execution_count": null,
      "outputs": []
    },
    {
      "cell_type": "code",
      "metadata": {
        "id": "Hm_1GUMJ7Bx1"
      },
      "source": [
        "test_data = pd.DataFrame(test_data).T\n",
        "test_data.columns = ['Sentence', 'Label']"
      ],
      "execution_count": null,
      "outputs": []
    },
    {
      "cell_type": "code",
      "metadata": {
        "colab": {
          "base_uri": "https://localhost:8080/",
          "height": 402
        },
        "id": "TLTMptK17EEH",
        "outputId": "cfc3448b-dbaf-41fe-dcdf-2797a32fe8f5"
      },
      "source": [
        "test_data"
      ],
      "execution_count": null,
      "outputs": [
        {
          "output_type": "execute_result",
          "data": {
            "text/html": [
              "<div>\n",
              "<style scoped>\n",
              "    .dataframe tbody tr th:only-of-type {\n",
              "        vertical-align: middle;\n",
              "    }\n",
              "\n",
              "    .dataframe tbody tr th {\n",
              "        vertical-align: top;\n",
              "    }\n",
              "\n",
              "    .dataframe thead th {\n",
              "        text-align: right;\n",
              "    }\n",
              "</style>\n",
              "<table border=\"1\" class=\"dataframe\">\n",
              "  <thead>\n",
              "    <tr style=\"text-align: right;\">\n",
              "      <th></th>\n",
              "      <th>Sentence</th>\n",
              "      <th>Label</th>\n",
              "    </tr>\n",
              "  </thead>\n",
              "  <tbody>\n",
              "    <tr>\n",
              "      <th>1</th>\n",
              "      <td>[-0.06335544, -0.029147001, 0.027340723, 0.068...</td>\n",
              "      <td>0</td>\n",
              "    </tr>\n",
              "    <tr>\n",
              "      <th>2</th>\n",
              "      <td>[0.06869196, -0.060556266, 0.05086742, 0.01811...</td>\n",
              "      <td>0</td>\n",
              "    </tr>\n",
              "    <tr>\n",
              "      <th>3</th>\n",
              "      <td>[-0.0660406, 0.035976294, 0.08232539, -0.00499...</td>\n",
              "      <td>0</td>\n",
              "    </tr>\n",
              "    <tr>\n",
              "      <th>4</th>\n",
              "      <td>[0.001154256, 0.06944055, 0.032809313, -0.0128...</td>\n",
              "      <td>0</td>\n",
              "    </tr>\n",
              "    <tr>\n",
              "      <th>5</th>\n",
              "      <td>[-0.021191048, -0.057707787, -0.043722693, 0.0...</td>\n",
              "      <td>1</td>\n",
              "    </tr>\n",
              "    <tr>\n",
              "      <th>...</th>\n",
              "      <td>...</td>\n",
              "      <td>...</td>\n",
              "    </tr>\n",
              "    <tr>\n",
              "      <th>158</th>\n",
              "      <td>[-0.022267858, -0.065829806, 0.06222481, 0.014...</td>\n",
              "      <td>0</td>\n",
              "    </tr>\n",
              "    <tr>\n",
              "      <th>159</th>\n",
              "      <td>[0.070805594, -0.020288588, 0.010987466, 0.079...</td>\n",
              "      <td>0</td>\n",
              "    </tr>\n",
              "    <tr>\n",
              "      <th>160</th>\n",
              "      <td>[0.04860682, -0.03236747, 0.029217944, -0.0153...</td>\n",
              "      <td>0</td>\n",
              "    </tr>\n",
              "    <tr>\n",
              "      <th>161</th>\n",
              "      <td>[-0.029471917, -0.064219825, 0.04674698, 0.058...</td>\n",
              "      <td>0</td>\n",
              "    </tr>\n",
              "    <tr>\n",
              "      <th>162</th>\n",
              "      <td>[0.047825415, 0.018355282, 0.00796382, -0.0071...</td>\n",
              "      <td>0</td>\n",
              "    </tr>\n",
              "  </tbody>\n",
              "</table>\n",
              "<p>162 rows × 2 columns</p>\n",
              "</div>"
            ],
            "text/plain": [
              "                                              Sentence Label\n",
              "1    [-0.06335544, -0.029147001, 0.027340723, 0.068...     0\n",
              "2    [0.06869196, -0.060556266, 0.05086742, 0.01811...     0\n",
              "3    [-0.0660406, 0.035976294, 0.08232539, -0.00499...     0\n",
              "4    [0.001154256, 0.06944055, 0.032809313, -0.0128...     0\n",
              "5    [-0.021191048, -0.057707787, -0.043722693, 0.0...     1\n",
              "..                                                 ...   ...\n",
              "158  [-0.022267858, -0.065829806, 0.06222481, 0.014...     0\n",
              "159  [0.070805594, -0.020288588, 0.010987466, 0.079...     0\n",
              "160  [0.04860682, -0.03236747, 0.029217944, -0.0153...     0\n",
              "161  [-0.029471917, -0.064219825, 0.04674698, 0.058...     0\n",
              "162  [0.047825415, 0.018355282, 0.00796382, -0.0071...     0\n",
              "\n",
              "[162 rows x 2 columns]"
            ]
          },
          "metadata": {
            "tags": []
          },
          "execution_count": 35
        }
      ]
    },
    {
      "cell_type": "code",
      "metadata": {
        "colab": {
          "base_uri": "https://localhost:8080/"
        },
        "id": "Mahk1ZBw7FRJ",
        "outputId": "6f7ff7da-e18d-4270-e6a2-a458b6513325"
      },
      "source": [
        "X_test = []\n",
        "for val in test_data['Sentence']:\n",
        "    X_test.append(list(val))\n",
        "# print(\"BEFORE\", len(X_test))\n",
        "X_test = np.array(X_test).reshape(len(X_test), 512, 1)\n",
        "print(X_test.shape)"
      ],
      "execution_count": null,
      "outputs": [
        {
          "output_type": "stream",
          "text": [
            "(162, 512, 1)\n"
          ],
          "name": "stdout"
        }
      ]
    },
    {
      "cell_type": "code",
      "metadata": {
        "id": "iGSXgxbp7IJV"
      },
      "source": [
        "y_test = test_data['Label'].values\n",
        "y_test = np.array(y_test, dtype=int)"
      ],
      "execution_count": null,
      "outputs": []
    },
    {
      "cell_type": "code",
      "metadata": {
        "colab": {
          "base_uri": "https://localhost:8080/"
        },
        "id": "acJmeXNM7MbV",
        "outputId": "93a9e15b-0c4a-4927-b4b4-94bc14de120f"
      },
      "source": [
        "y_pred = model.predict_classes(X_test)\n",
        "y_pred"
      ],
      "execution_count": null,
      "outputs": [
        {
          "output_type": "stream",
          "text": [
            "/usr/local/lib/python3.7/dist-packages/tensorflow/python/keras/engine/sequential.py:450: UserWarning: `model.predict_classes()` is deprecated and will be removed after 2021-01-01. Please use instead:* `np.argmax(model.predict(x), axis=-1)`,   if your model does multi-class classification   (e.g. if it uses a `softmax` last-layer activation).* `(model.predict(x) > 0.5).astype(\"int32\")`,   if your model does binary classification   (e.g. if it uses a `sigmoid` last-layer activation).\n",
            "  warnings.warn('`model.predict_classes()` is deprecated and '\n"
          ],
          "name": "stderr"
        },
        {
          "output_type": "execute_result",
          "data": {
            "text/plain": [
              "array([1, 1, 1, 1, 1, 0, 1, 1, 1, 1, 1, 1, 1, 1, 1, 1, 1, 1, 1, 1, 1, 1,\n",
              "       1, 1, 1, 1, 1, 1, 1, 1, 1, 1, 1, 0, 1, 1, 1, 1, 1, 1, 1, 1, 1, 1,\n",
              "       1, 1, 1, 1, 1, 1, 0, 1, 1, 1, 0, 1, 1, 1, 1, 1, 1, 1, 1, 1, 1, 1,\n",
              "       1, 1, 1, 1, 1, 1, 1, 1, 1, 1, 1, 1, 1, 1, 1, 1, 1, 1, 1, 1, 1, 1,\n",
              "       1, 1, 1, 1, 1, 1, 1, 1, 1, 1, 1, 1, 1, 1, 1, 1, 1, 1, 1, 1, 1, 1,\n",
              "       1, 1, 1, 1, 1, 1, 1, 1, 1, 1, 1, 1, 1, 1, 1, 1, 1, 1, 1, 1, 1, 1,\n",
              "       1, 1, 1, 1, 1, 1, 1, 1, 1, 1, 1, 0, 1, 1, 1, 1, 1, 1, 1, 1, 1, 1,\n",
              "       1, 1, 1, 1, 1, 1, 0, 1])"
            ]
          },
          "metadata": {
            "tags": []
          },
          "execution_count": 41
        }
      ]
    },
    {
      "cell_type": "code",
      "metadata": {
        "colab": {
          "base_uri": "https://localhost:8080/",
          "height": 278
        },
        "id": "Ai9zwl8X7RCO",
        "outputId": "325de7a5-166a-4d8e-9886-5bd2dd64ab08"
      },
      "source": [
        "cm = confusion_matrix(y_test, y_pred)\n",
        "sns.heatmap(cm, annot=True, square=True)\n",
        "plt.xlabel(\"FN Predicted labels TP\")\n",
        "plt.ylabel(\"True labels\")\n",
        "plt.xticks([], [])\n",
        "plt.yticks([], [])\n",
        "plt.title('TN Confusion matrix FP')\n",
        "plt.show()"
      ],
      "execution_count": null,
      "outputs": [
        {
          "output_type": "display_data",
          "data": {
            "image/png": "[encoded data removed]",
            "text/plain": [
              "<Figure size 432x288 with 2 Axes>"
            ]
          },
          "metadata": {
            "tags": [],
            "needs_background": "light"
          }
        }
      ]
    },
    {
      "cell_type": "code",
      "metadata": {
        "id": "bhYro_Jh9JrU",
        "colab": {
          "base_uri": "https://localhost:8080/"
        },
        "outputId": "597e767d-8661-4471-b4d9-a8db569868a2"
      },
      "source": [
        "precision_recall_fscore_support(y_test, y_pred, average='micro')"
      ],
      "execution_count": null,
      "outputs": [
        {
          "output_type": "execute_result",
          "data": {
            "text/plain": [
              "(0.10493827160493827, 0.10493827160493827, 0.10493827160493827, None)"
            ]
          },
          "metadata": {
            "tags": []
          },
          "execution_count": 44
        }
      ]
    },
    {
      "cell_type": "code",
      "metadata": {
        "id": "X3AMnzNR32G5",
        "colab": {
          "base_uri": "https://localhost:8080/"
        },
        "outputId": "0445aab6-056c-4201-da5f-b4ab911ce92e"
      },
      "source": [
        "precision_recall_fscore_support(y_test, y_pred, average='macro')"
      ],
      "execution_count": null,
      "outputs": [
        {
          "output_type": "execute_result",
          "data": {
            "text/plain": [
              "(0.5352564102564102, 0.5198675496688742, 0.10408482398260804, None)"
            ]
          },
          "metadata": {
            "tags": []
          },
          "execution_count": 45
        }
      ]
    }
  ]
}